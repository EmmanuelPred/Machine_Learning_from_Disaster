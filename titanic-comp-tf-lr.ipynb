{
 "cells": [
  {
   "cell_type": "code",
   "execution_count": 1,
   "id": "01923438",
   "metadata": {
    "_cell_guid": "b1076dfc-b9ad-4769-8c92-a6c4dae69d19",
    "_uuid": "8f2839f25d086af736a60e9eeb907d3b93b6e0e5",
    "execution": {
     "iopub.execute_input": "2022-01-25T07:09:35.064370Z",
     "iopub.status.busy": "2022-01-25T07:09:35.063203Z",
     "iopub.status.idle": "2022-01-25T07:09:41.022566Z",
     "shell.execute_reply": "2022-01-25T07:09:41.021892Z",
     "shell.execute_reply.started": "2022-01-25T07:07:31.257905Z"
    },
    "papermill": {
     "duration": 5.980797,
     "end_time": "2022-01-25T07:09:41.022717",
     "exception": false,
     "start_time": "2022-01-25T07:09:35.041920",
     "status": "completed"
    },
    "tags": []
   },
   "outputs": [],
   "source": [
    "import numpy as np \n",
    "import pandas as pd \n",
    "import tensorflow as tf\n",
    "from sklearn.model_selection import train_test_split"
   ]
  },
  {
   "cell_type": "markdown",
   "id": "b4bbba69",
   "metadata": {
    "papermill": {
     "duration": 0.01716,
     "end_time": "2022-01-25T07:09:41.058874",
     "exception": false,
     "start_time": "2022-01-25T07:09:41.041714",
     "status": "completed"
    },
    "tags": []
   },
   "source": [
    "### Import and clean the data"
   ]
  },
  {
   "cell_type": "code",
   "execution_count": 2,
   "id": "326e57ac",
   "metadata": {
    "execution": {
     "iopub.execute_input": "2022-01-25T07:09:41.096862Z",
     "iopub.status.busy": "2022-01-25T07:09:41.096220Z",
     "iopub.status.idle": "2022-01-25T07:09:41.154594Z",
     "shell.execute_reply": "2022-01-25T07:09:41.155059Z",
     "shell.execute_reply.started": "2022-01-25T07:07:31.265203Z"
    },
    "papermill": {
     "duration": 0.078594,
     "end_time": "2022-01-25T07:09:41.155242",
     "exception": false,
     "start_time": "2022-01-25T07:09:41.076648",
     "status": "completed"
    },
    "tags": []
   },
   "outputs": [
    {
     "name": "stdout",
     "output_type": "stream",
     "text": [
      "     PassengerId  Survived  Pclass     Sex        Age  SibSp  Parch     Fare\n",
      "0              1         0       3    male  22.000000      1      0   7.2500\n",
      "1              2         1       1  female  38.000000      1      0  71.2833\n",
      "2              3         1       3  female  26.000000      0      0   7.9250\n",
      "3              4         1       1  female  35.000000      1      0  53.1000\n",
      "4              5         0       3    male  35.000000      0      0   8.0500\n",
      "..           ...       ...     ...     ...        ...    ...    ...      ...\n",
      "885          886         0       3  female  39.000000      0      5  29.1250\n",
      "886          887         0       2    male  27.000000      0      0  13.0000\n",
      "887          888         1       1  female  19.000000      0      0  30.0000\n",
      "888          889         0       3  female  29.699118      1      2  23.4500\n",
      "889          890         1       1    male  26.000000      0      0  30.0000\n",
      "\n",
      "[890 rows x 8 columns]\n",
      "     PassengerId  Pclass     Sex        Age  SibSp  Parch      Fare\n",
      "0            892       3    male  34.500000      0      0    7.8292\n",
      "1            893       3  female  47.000000      1      0    7.0000\n",
      "2            894       2    male  62.000000      0      0    9.6875\n",
      "3            895       3    male  27.000000      0      0    8.6625\n",
      "4            896       3  female  22.000000      1      1   12.2875\n",
      "..           ...     ...     ...        ...    ...    ...       ...\n",
      "412         1304       3  female  28.000000      0      0    7.7750\n",
      "413         1305       3    male  29.699118      0      0    8.0500\n",
      "414         1306       1  female  39.000000      0      0  108.9000\n",
      "415         1307       3    male  38.500000      0      0    7.2500\n",
      "416         1308       3    male  29.699118      0      0    8.0500\n",
      "\n",
      "[417 rows x 7 columns]\n"
     ]
    }
   ],
   "source": [
    "dftrain = pd.read_csv('../input/titanic/train.csv') \n",
    "dftrain= dftrain.drop(columns=['Cabin','Embarked','Ticket','Name'])\n",
    "dftrain=dftrain.fillna(dftrain['Age'].mean())\n",
    "\n",
    "dfvalid = pd.read_csv('../input/titanic/test.csv') \n",
    "dfvalid= dfvalid.drop(columns=['Cabin','Embarked','Ticket','Name'])\n",
    "dfvalid=dfvalid.fillna(dftrain['Age'].mean())\n",
    "\n",
    "print(dftrain.head(-1))\n",
    "print(dfvalid.head(-1))"
   ]
  },
  {
   "cell_type": "markdown",
   "id": "c49e4875",
   "metadata": {
    "papermill": {
     "duration": 0.011724,
     "end_time": "2022-01-25T07:09:41.179643",
     "exception": false,
     "start_time": "2022-01-25T07:09:41.167919",
     "status": "completed"
    },
    "tags": []
   },
   "source": [
    "### Split Data"
   ]
  },
  {
   "cell_type": "code",
   "execution_count": 3,
   "id": "09f33d5c",
   "metadata": {
    "execution": {
     "iopub.execute_input": "2022-01-25T07:09:41.210283Z",
     "iopub.status.busy": "2022-01-25T07:09:41.209783Z",
     "iopub.status.idle": "2022-01-25T07:09:41.221150Z",
     "shell.execute_reply": "2022-01-25T07:09:41.221517Z",
     "shell.execute_reply.started": "2022-01-25T07:07:31.306152Z"
    },
    "papermill": {
     "duration": 0.030108,
     "end_time": "2022-01-25T07:09:41.221645",
     "exception": false,
     "start_time": "2022-01-25T07:09:41.191537",
     "status": "completed"
    },
    "tags": []
   },
   "outputs": [
    {
     "name": "stdout",
     "output_type": "stream",
     "text": [
      "     PassengerId  Pclass     Sex        Age  SibSp  Parch     Fare\n",
      "0              1       3    male  22.000000      1      0   7.2500\n",
      "1              2       1  female  38.000000      1      0  71.2833\n",
      "2              3       3  female  26.000000      0      0   7.9250\n",
      "3              4       1  female  35.000000      1      0  53.1000\n",
      "4              5       3    male  35.000000      0      0   8.0500\n",
      "..           ...     ...     ...        ...    ...    ...      ...\n",
      "885          886       3  female  39.000000      0      5  29.1250\n",
      "886          887       2    male  27.000000      0      0  13.0000\n",
      "887          888       1  female  19.000000      0      0  30.0000\n",
      "888          889       3  female  29.699118      1      2  23.4500\n",
      "889          890       1    male  26.000000      0      0  30.0000\n",
      "\n",
      "[890 rows x 7 columns]\n"
     ]
    }
   ],
   "source": [
    "y= dftrain.pop('Survived') \n",
    "X_dftrain_train, X_dftrain_valid, y_train, y_valid = train_test_split(dftrain, y, train_size=0.8, test_size=0.2,random_state=0)\n",
    "\n",
    "print(dftrain.head(-1))"
   ]
  },
  {
   "cell_type": "markdown",
   "id": "acf65d43",
   "metadata": {
    "execution": {
     "iopub.execute_input": "2022-01-25T02:27:18.516084Z",
     "iopub.status.busy": "2022-01-25T02:27:18.514149Z",
     "iopub.status.idle": "2022-01-25T02:27:18.530737Z",
     "shell.execute_reply": "2022-01-25T02:27:18.529602Z",
     "shell.execute_reply.started": "2022-01-25T02:27:18.516028Z"
    },
    "papermill": {
     "duration": 0.011876,
     "end_time": "2022-01-25T07:09:41.245565",
     "exception": false,
     "start_time": "2022-01-25T07:09:41.233689",
     "status": "completed"
    },
    "tags": []
   },
   "source": [
    "### Define feature columns"
   ]
  },
  {
   "cell_type": "code",
   "execution_count": 4,
   "id": "34255599",
   "metadata": {
    "execution": {
     "iopub.execute_input": "2022-01-25T07:09:41.272923Z",
     "iopub.status.busy": "2022-01-25T07:09:41.272459Z",
     "iopub.status.idle": "2022-01-25T07:09:41.280451Z",
     "shell.execute_reply": "2022-01-25T07:09:41.280851Z",
     "shell.execute_reply.started": "2022-01-25T07:07:31.321248Z"
    },
    "papermill": {
     "duration": 0.023324,
     "end_time": "2022-01-25T07:09:41.280983",
     "exception": false,
     "start_time": "2022-01-25T07:09:41.257659",
     "status": "completed"
    },
    "tags": []
   },
   "outputs": [
    {
     "data": {
      "text/plain": [
       "PassengerId      int64\n",
       "Pclass           int64\n",
       "Sex             object\n",
       "Age            float64\n",
       "SibSp            int64\n",
       "Parch            int64\n",
       "Fare           float64\n",
       "dtype: object"
      ]
     },
     "execution_count": 4,
     "metadata": {},
     "output_type": "execute_result"
    }
   ],
   "source": [
    "dftrain.dtypes"
   ]
  },
  {
   "cell_type": "code",
   "execution_count": 5,
   "id": "918deb49",
   "metadata": {
    "execution": {
     "iopub.execute_input": "2022-01-25T07:09:41.310175Z",
     "iopub.status.busy": "2022-01-25T07:09:41.308489Z",
     "iopub.status.idle": "2022-01-25T07:09:41.313778Z",
     "shell.execute_reply": "2022-01-25T07:09:41.314160Z",
     "shell.execute_reply.started": "2022-01-25T07:07:31.330069Z"
    },
    "papermill": {
     "duration": 0.021057,
     "end_time": "2022-01-25T07:09:41.314319",
     "exception": false,
     "start_time": "2022-01-25T07:09:41.293262",
     "status": "completed"
    },
    "tags": []
   },
   "outputs": [],
   "source": [
    "CATEGORICAL_COLUMNS = ['Sex','SibSp','Parch','Pclass']\n",
    "NUMERIC_COLUMNS = ['Age', 'Fare']"
   ]
  },
  {
   "cell_type": "code",
   "execution_count": 6,
   "id": "3199c846",
   "metadata": {
    "execution": {
     "iopub.execute_input": "2022-01-25T07:09:41.347886Z",
     "iopub.status.busy": "2022-01-25T07:09:41.347366Z",
     "iopub.status.idle": "2022-01-25T07:09:41.350505Z",
     "shell.execute_reply": "2022-01-25T07:09:41.350058Z",
     "shell.execute_reply.started": "2022-01-25T07:07:31.341625Z"
    },
    "papermill": {
     "duration": 0.023249,
     "end_time": "2022-01-25T07:09:41.350625",
     "exception": false,
     "start_time": "2022-01-25T07:09:41.327376",
     "status": "completed"
    },
    "tags": []
   },
   "outputs": [
    {
     "name": "stdout",
     "output_type": "stream",
     "text": [
      "[VocabularyListCategoricalColumn(key='Sex', vocabulary_list=('male', 'female'), dtype=tf.string, default_value=-1, num_oov_buckets=0), VocabularyListCategoricalColumn(key='SibSp', vocabulary_list=(1, 0, 3, 4, 2, 5, 8), dtype=tf.int64, default_value=-1, num_oov_buckets=0), VocabularyListCategoricalColumn(key='Parch', vocabulary_list=(0, 1, 2, 5, 3, 4, 6), dtype=tf.int64, default_value=-1, num_oov_buckets=0), VocabularyListCategoricalColumn(key='Pclass', vocabulary_list=(3, 1, 2), dtype=tf.int64, default_value=-1, num_oov_buckets=0), NumericColumn(key='Age', shape=(1,), default_value=None, dtype=tf.float32, normalizer_fn=None), NumericColumn(key='Fare', shape=(1,), default_value=None, dtype=tf.float32, normalizer_fn=None)]\n"
     ]
    }
   ],
   "source": [
    "feature_columns = []\n",
    "for feature_name in CATEGORICAL_COLUMNS:\n",
    "  vocabulary = dftrain[feature_name].unique() \n",
    "  feature_columns.append(tf.feature_column.categorical_column_with_vocabulary_list(feature_name,vocabulary))\n",
    "for feature_name in NUMERIC_COLUMNS:\n",
    "  feature_columns.append(tf.feature_column.numeric_column(feature_name, dtype=tf.float32))\n",
    "\n",
    "print(feature_columns)"
   ]
  },
  {
   "cell_type": "markdown",
   "id": "ecd843aa",
   "metadata": {
    "papermill": {
     "duration": 0.012926,
     "end_time": "2022-01-25T07:09:41.376785",
     "exception": false,
     "start_time": "2022-01-25T07:09:41.363859",
     "status": "completed"
    },
    "tags": []
   },
   "source": [
    "### Input function"
   ]
  },
  {
   "cell_type": "code",
   "execution_count": 7,
   "id": "c49b8886",
   "metadata": {
    "execution": {
     "iopub.execute_input": "2022-01-25T07:09:41.409434Z",
     "iopub.status.busy": "2022-01-25T07:09:41.408903Z",
     "iopub.status.idle": "2022-01-25T07:09:41.411711Z",
     "shell.execute_reply": "2022-01-25T07:09:41.411283Z",
     "shell.execute_reply.started": "2022-01-25T07:07:31.358984Z"
    },
    "papermill": {
     "duration": 0.021635,
     "end_time": "2022-01-25T07:09:41.411813",
     "exception": false,
     "start_time": "2022-01-25T07:09:41.390178",
     "status": "completed"
    },
    "tags": []
   },
   "outputs": [],
   "source": [
    "def make_input_fn(data_df,label_df, num_epocs=2000,shuffle=True, batch_size= 32):\n",
    "  def input_function():\n",
    "    ds = tf.data.Dataset.from_tensor_slices((dict(data_df),label_df)) \n",
    "    if shuffle:\n",
    "      ds = ds.shuffle(2000)  \n",
    "    ds = ds.batch(batch_size).repeat(num_epocs)  \n",
    "    return ds \n",
    "  return input_function \n",
    "  \n",
    "train_input_fn = make_input_fn(X_dftrain_train, y_train) \n",
    "eval_input_fn = make_input_fn(X_dftrain_valid,y_valid,num_epocs=1,shuffle=False)"
   ]
  },
  {
   "cell_type": "markdown",
   "id": "c156267d",
   "metadata": {
    "papermill": {
     "duration": 0.012816,
     "end_time": "2022-01-25T07:09:41.437704",
     "exception": false,
     "start_time": "2022-01-25T07:09:41.424888",
     "status": "completed"
    },
    "tags": []
   },
   "source": [
    "### Creating the linear regression model"
   ]
  },
  {
   "cell_type": "code",
   "execution_count": 8,
   "id": "4301276e",
   "metadata": {
    "execution": {
     "iopub.execute_input": "2022-01-25T07:09:41.467932Z",
     "iopub.status.busy": "2022-01-25T07:09:41.467462Z",
     "iopub.status.idle": "2022-01-25T07:09:42.806735Z",
     "shell.execute_reply": "2022-01-25T07:09:42.806190Z",
     "shell.execute_reply.started": "2022-01-25T07:07:31.371634Z"
    },
    "papermill": {
     "duration": 1.355977,
     "end_time": "2022-01-25T07:09:42.806856",
     "exception": false,
     "start_time": "2022-01-25T07:09:41.450879",
     "status": "completed"
    },
    "tags": []
   },
   "outputs": [],
   "source": [
    "linear_est = tf.estimator.LinearClassifier(feature_columns=feature_columns)"
   ]
  },
  {
   "cell_type": "markdown",
   "id": "bffde2ce",
   "metadata": {
    "papermill": {
     "duration": 0.012821,
     "end_time": "2022-01-25T07:09:42.834081",
     "exception": false,
     "start_time": "2022-01-25T07:09:42.821260",
     "status": "completed"
    },
    "tags": []
   },
   "source": [
    "### Training the model"
   ]
  },
  {
   "cell_type": "code",
   "execution_count": 9,
   "id": "7dab04c3",
   "metadata": {
    "execution": {
     "iopub.execute_input": "2022-01-25T07:09:42.865532Z",
     "iopub.status.busy": "2022-01-25T07:09:42.864788Z",
     "iopub.status.idle": "2022-01-25T07:11:10.354684Z",
     "shell.execute_reply": "2022-01-25T07:11:10.355075Z",
     "shell.execute_reply.started": "2022-01-25T07:07:31.392563Z"
    },
    "papermill": {
     "duration": 87.508012,
     "end_time": "2022-01-25T07:11:10.355207",
     "exception": false,
     "start_time": "2022-01-25T07:09:42.847195",
     "status": "completed"
    },
    "tags": []
   },
   "outputs": [
    {
     "name": "stderr",
     "output_type": "stream",
     "text": [
      "/opt/conda/lib/python3.7/site-packages/keras/engine/base_layer_v1.py:1684: UserWarning: `layer.add_variable` is deprecated and will be removed in a future version. Please use `layer.add_weight` method instead.\n",
      "  warnings.warn('`layer.add_variable` is deprecated and '\n",
      "\n",
      "User settings:\n",
      "\n",
      "   KMP_AFFINITY=granularity=fine,verbose,compact,1,0\n",
      "   KMP_BLOCKTIME=0\n",
      "   KMP_DUPLICATE_LIB_OK=True\n",
      "   KMP_INIT_AT_FORK=FALSE\n",
      "   KMP_SETTINGS=1\n",
      "   KMP_WARNINGS=0\n",
      "\n",
      "Effective settings:\n",
      "\n",
      "   KMP_ABORT_DELAY=0\n",
      "   KMP_ADAPTIVE_LOCK_PROPS='1,1024'\n",
      "   KMP_ALIGN_ALLOC=64\n",
      "   KMP_ALL_THREADPRIVATE=128\n",
      "   KMP_ATOMIC_MODE=2\n",
      "   KMP_BLOCKTIME=0\n",
      "   KMP_CPUINFO_FILE: value is not defined\n",
      "   KMP_DETERMINISTIC_REDUCTION=false\n",
      "   KMP_DEVICE_THREAD_LIMIT=2147483647\n",
      "   KMP_DISP_NUM_BUFFERS=7\n",
      "   KMP_DUPLICATE_LIB_OK=true\n",
      "   KMP_ENABLE_TASK_THROTTLING=true\n",
      "   KMP_FORCE_REDUCTION: value is not defined\n",
      "   KMP_FOREIGN_THREADS_THREADPRIVATE=true\n",
      "   KMP_FORKJOIN_BARRIER='2,2'\n",
      "   KMP_FORKJOIN_BARRIER_PATTERN='hyper,hyper'\n",
      "   KMP_GTID_MODE=3\n",
      "   KMP_HANDLE_SIGNALS=false\n",
      "   KMP_HOT_TEAMS_MAX_LEVEL=1\n",
      "   KMP_HOT_TEAMS_MODE=0\n",
      "   KMP_INIT_AT_FORK=true\n",
      "   KMP_LIBRARY=throughput\n",
      "   KMP_LOCK_KIND=queuing\n",
      "   KMP_MALLOC_POOL_INCR=1M\n",
      "   KMP_NUM_LOCKS_IN_BLOCK=1\n",
      "   KMP_PLAIN_BARRIER='2,2'\n",
      "   KMP_PLAIN_BARRIER_PATTERN='hyper,hyper'\n",
      "   KMP_REDUCTION_BARRIER='1,1'\n",
      "   KMP_REDUCTION_BARRIER_PATTERN='hyper,hyper'\n",
      "   KMP_SCHEDULE='static,balanced;guided,iterative'\n",
      "   KMP_SETTINGS=true\n",
      "   KMP_SPIN_BACKOFF_PARAMS='4096,100'\n",
      "   KMP_STACKOFFSET=64\n",
      "   KMP_STACKPAD=0\n",
      "   KMP_STACKSIZE=8M\n",
      "   KMP_STORAGE_MAP=false\n",
      "   KMP_TASKING=2\n",
      "   KMP_TASKLOOP_MIN_TASKS=0\n",
      "   KMP_TASK_STEALING_CONSTRAINT=1\n",
      "   KMP_TEAMS_THREAD_LIMIT=4\n",
      "   KMP_TOPOLOGY_METHOD=all\n",
      "   KMP_USE_YIELD=1\n",
      "   KMP_VERSION=false\n",
      "   KMP_WARNINGS=false\n",
      "   OMP_AFFINITY_FORMAT='OMP: pid %P tid %i thread %n bound to OS proc set {%A}'\n",
      "   OMP_ALLOCATOR=omp_default_mem_alloc\n",
      "   OMP_CANCELLATION=false\n",
      "   OMP_DEFAULT_DEVICE=0\n",
      "   OMP_DISPLAY_AFFINITY=false\n",
      "   OMP_DISPLAY_ENV=false\n",
      "   OMP_DYNAMIC=false\n",
      "   OMP_MAX_ACTIVE_LEVELS=1\n",
      "   OMP_MAX_TASK_PRIORITY=0\n",
      "   OMP_NESTED: deprecated; max-active-levels-var=1\n",
      "   OMP_NUM_THREADS: value is not defined\n",
      "   OMP_PLACES: value is not defined\n",
      "   OMP_PROC_BIND='intel'\n",
      "   OMP_SCHEDULE='static'\n",
      "   OMP_STACKSIZE=8M\n",
      "   OMP_TARGET_OFFLOAD=DEFAULT\n",
      "   OMP_THREAD_LIMIT=2147483647\n",
      "   OMP_WAIT_POLICY=PASSIVE\n",
      "   KMP_AFFINITY='verbose,warnings,respect,granularity=fine,compact,1,0'\n",
      "\n",
      "2022-01-25 07:09:44.073277: I tensorflow/core/common_runtime/process_util.cc:146] Creating new thread pool with default inter op setting: 2. Tune using inter_op_parallelism_threads for best performance.\n"
     ]
    },
    {
     "name": "stdout",
     "output_type": "stream",
     "text": [
      "{'accuracy': 0.81005585, 'accuracy_baseline': 0.61452514, 'auc': 0.8720026, 'auc_precision_recall': 0.8545147, 'average_loss': 0.4144761, 'label/mean': 0.38547486, 'loss': 0.4107461, 'precision': 0.7692308, 'prediction/mean': 0.41060105, 'recall': 0.7246377, 'global_step': 46000}\n",
      "0.81005585\n"
     ]
    }
   ],
   "source": [
    "linear_est.train(train_input_fn) \n",
    "result = linear_est.evaluate(eval_input_fn) \n",
    "print(result)\n",
    "print(result['accuracy'])"
   ]
  },
  {
   "cell_type": "code",
   "execution_count": 10,
   "id": "b24c0ac4",
   "metadata": {
    "execution": {
     "iopub.execute_input": "2022-01-25T07:11:10.385976Z",
     "iopub.status.busy": "2022-01-25T07:11:10.385479Z",
     "iopub.status.idle": "2022-01-25T07:11:10.846893Z",
     "shell.execute_reply": "2022-01-25T07:11:10.847437Z",
     "shell.execute_reply.started": "2022-01-25T07:08:36.209708Z"
    },
    "papermill": {
     "duration": 0.478509,
     "end_time": "2022-01-25T07:11:10.847619",
     "exception": false,
     "start_time": "2022-01-25T07:11:10.369110",
     "status": "completed"
    },
    "tags": []
   },
   "outputs": [],
   "source": [
    "test_input_fn = tf.compat.v1.estimator.inputs.pandas_input_fn(x=dfvalid, num_epochs=1, shuffle=False)"
   ]
  },
  {
   "cell_type": "markdown",
   "id": "b19a5796",
   "metadata": {
    "papermill": {
     "duration": 0.020627,
     "end_time": "2022-01-25T07:11:10.889074",
     "exception": false,
     "start_time": "2022-01-25T07:11:10.868447",
     "status": "completed"
    },
    "tags": []
   },
   "source": [
    "### Make predictions"
   ]
  },
  {
   "cell_type": "code",
   "execution_count": 11,
   "id": "b4994e44",
   "metadata": {
    "execution": {
     "iopub.execute_input": "2022-01-25T07:11:10.934103Z",
     "iopub.status.busy": "2022-01-25T07:11:10.933267Z",
     "iopub.status.idle": "2022-01-25T07:11:11.626176Z",
     "shell.execute_reply": "2022-01-25T07:11:11.627071Z",
     "shell.execute_reply.started": "2022-01-25T07:08:36.216741Z"
    },
    "papermill": {
     "duration": 0.717565,
     "end_time": "2022-01-25T07:11:11.627251",
     "exception": false,
     "start_time": "2022-01-25T07:11:10.909686",
     "status": "completed"
    },
    "tags": []
   },
   "outputs": [
    {
     "name": "stdout",
     "output_type": "stream",
     "text": [
      "0      0\n",
      "1      0\n",
      "2      0\n",
      "3      0\n",
      "4      1\n",
      "      ..\n",
      "413    0\n",
      "414    1\n",
      "415    0\n",
      "416    0\n",
      "417    0\n",
      "Length: 418, dtype: int64\n"
     ]
    }
   ],
   "source": [
    "pred_dicts = list(linear_est.predict(test_input_fn))\n",
    "probs = pd.Series([pred['class_ids'][0] for pred in pred_dicts])\n",
    "print(probs)"
   ]
  },
  {
   "cell_type": "markdown",
   "id": "496d9e3f",
   "metadata": {
    "papermill": {
     "duration": 0.020132,
     "end_time": "2022-01-25T07:11:11.667988",
     "exception": false,
     "start_time": "2022-01-25T07:11:11.647856",
     "status": "completed"
    },
    "tags": []
   },
   "source": [
    "### Save results"
   ]
  },
  {
   "cell_type": "code",
   "execution_count": 12,
   "id": "7e1abc94",
   "metadata": {
    "execution": {
     "iopub.execute_input": "2022-01-25T07:11:11.711420Z",
     "iopub.status.busy": "2022-01-25T07:11:11.710646Z",
     "iopub.status.idle": "2022-01-25T07:11:11.728944Z",
     "shell.execute_reply": "2022-01-25T07:11:11.729460Z",
     "shell.execute_reply.started": "2022-01-25T07:08:36.984328Z"
    },
    "papermill": {
     "duration": 0.041581,
     "end_time": "2022-01-25T07:11:11.729642",
     "exception": false,
     "start_time": "2022-01-25T07:11:11.688061",
     "status": "completed"
    },
    "tags": []
   },
   "outputs": [
    {
     "data": {
      "text/html": [
       "<div>\n",
       "<style scoped>\n",
       "    .dataframe tbody tr th:only-of-type {\n",
       "        vertical-align: middle;\n",
       "    }\n",
       "\n",
       "    .dataframe tbody tr th {\n",
       "        vertical-align: top;\n",
       "    }\n",
       "\n",
       "    .dataframe thead th {\n",
       "        text-align: right;\n",
       "    }\n",
       "</style>\n",
       "<table border=\"1\" class=\"dataframe\">\n",
       "  <thead>\n",
       "    <tr style=\"text-align: right;\">\n",
       "      <th></th>\n",
       "      <th>PassengerId</th>\n",
       "      <th>Survived</th>\n",
       "    </tr>\n",
       "  </thead>\n",
       "  <tbody>\n",
       "    <tr>\n",
       "      <th>0</th>\n",
       "      <td>892</td>\n",
       "      <td>0</td>\n",
       "    </tr>\n",
       "    <tr>\n",
       "      <th>1</th>\n",
       "      <td>893</td>\n",
       "      <td>0</td>\n",
       "    </tr>\n",
       "    <tr>\n",
       "      <th>2</th>\n",
       "      <td>894</td>\n",
       "      <td>0</td>\n",
       "    </tr>\n",
       "    <tr>\n",
       "      <th>3</th>\n",
       "      <td>895</td>\n",
       "      <td>0</td>\n",
       "    </tr>\n",
       "    <tr>\n",
       "      <th>4</th>\n",
       "      <td>896</td>\n",
       "      <td>1</td>\n",
       "    </tr>\n",
       "  </tbody>\n",
       "</table>\n",
       "</div>"
      ],
      "text/plain": [
       "   PassengerId  Survived\n",
       "0          892         0\n",
       "1          893         0\n",
       "2          894         0\n",
       "3          895         0\n",
       "4          896         1"
      ]
     },
     "execution_count": 12,
     "metadata": {},
     "output_type": "execute_result"
    }
   ],
   "source": [
    "output = dfvalid['PassengerId'].copy().to_frame()\n",
    "output['Survived'] = probs\n",
    "output.to_csv('output_submission.csv', index=False)\n",
    "output.head()"
   ]
  }
 ],
 "metadata": {
  "kernelspec": {
   "display_name": "Python 3",
   "language": "python",
   "name": "python3"
  },
  "language_info": {
   "codemirror_mode": {
    "name": "ipython",
    "version": 3
   },
   "file_extension": ".py",
   "mimetype": "text/x-python",
   "name": "python",
   "nbconvert_exporter": "python",
   "pygments_lexer": "ipython3",
   "version": "3.7.12"
  },
  "papermill": {
   "default_parameters": {},
   "duration": 110.788725,
   "end_time": "2022-01-25T07:11:14.554384",
   "environment_variables": {},
   "exception": null,
   "input_path": "__notebook__.ipynb",
   "output_path": "__notebook__.ipynb",
   "parameters": {},
   "start_time": "2022-01-25T07:09:23.765659",
   "version": "2.3.3"
  }
 },
 "nbformat": 4,
 "nbformat_minor": 5
}
